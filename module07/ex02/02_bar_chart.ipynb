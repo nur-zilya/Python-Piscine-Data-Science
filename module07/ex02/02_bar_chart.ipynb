{
  "nbformat": 4,
  "nbformat_minor": 0,
  "metadata": {
    "colab": {
      "provenance": []
    },
    "kernelspec": {
      "name": "python3",
      "display_name": "Python 3"
    },
    "language_info": {
      "name": "python"
    }
  },
  "cells": [
    {
      "cell_type": "code",
      "execution_count": 2,
      "metadata": {
        "colab": {
          "base_uri": "https://localhost:8080/"
        },
        "id": "t_zD-5V_MUQo",
        "outputId": "a81452fb-06c4-4e18-88c4-7e20c395e9a4"
      },
      "outputs": [
        {
          "output_type": "stream",
          "name": "stdout",
          "text": [
            "Drive already mounted at /content/drive; to attempt to forcibly remount, call drive.mount(\"/content/drive\", force_remount=True).\n"
          ]
        }
      ],
      "source": [
        "from google.colab import drive\n",
        "drive.mount('/content/drive')\n",
        "import pandas as pd\n",
        "import sqlite3"
      ]
    },
    {
      "cell_type": "code",
      "source": [
        "data = sqlite3.connect('/content/drive/My Drive/data/checking-logs.sqlite.sqlite')"
      ],
      "metadata": {
        "id": "14KKMFy2Mj2_"
      },
      "execution_count": 3,
      "outputs": []
    },
    {
      "cell_type": "code",
      "source": [
        "commits = pd.io.sql.read_sql(\n",
        "    \"select timestamp from checker where uid like 'user_%'\",\n",
        "    data, parse_dates=['timestamp']\n",
        "    )"
      ],
      "metadata": {
        "id": "KrKRB0dDmwyP"
      },
      "execution_count": 4,
      "outputs": []
    },
    {
      "cell_type": "code",
      "source": [
        "commits['date'] = commits['timestamp'].dt.floor('d')\n",
        "commits['time'] = pd.to_datetime(commits['timestamp'].dt.time.astype(str),\n",
        "                                 format='%H:%M:%S.%f')\n",
        "commits = commits.drop('timestamp', axis=1)"
      ],
      "metadata": {
        "id": "WPuDjH17sUsJ"
      },
      "execution_count": 5,
      "outputs": []
    },
    {
      "cell_type": "code",
      "source": [
        "commits['daytime'] = pd.cut(\n",
        "    commits.time, [pd.to_datetime(\n",
        "        h, unit='h', origin=pd.Timestamp('1900-01-01')\n",
        "        ) for h in [0, 4, 10, 17, 24]], right=False,\n",
        "    labels=['night', 'morning', 'afternoon', 'evening'], include_lowest=True)"
      ],
      "metadata": {
        "id": "eQvpwkRkscKH"
      },
      "execution_count": 6,
      "outputs": []
    },
    {
      "cell_type": "code",
      "source": [
        "df = commits.groupby('daytime').date.value_counts().unstack(0)"
      ],
      "metadata": {
        "id": "jKiUqCWoseag"
      },
      "execution_count": 7,
      "outputs": []
    },
    {
      "cell_type": "code",
      "source": [
        "graph = df.plot.bar(stacked=True, figsize=(15, 8), title='Commits per day',\n",
        "                 rot=90, fontsize=8, colormap='Paired')\n",
        "graph.grid(axis='y')"
      ],
      "metadata": {
        "colab": {
          "base_uri": "https://localhost:8080/",
          "height": 587
        },
        "id": "OJ0uUG8ctKFu",
        "outputId": "18a8f472-fa34-49cd-9726-d4bf902c659d"
      },
      "execution_count": 10,
      "outputs": [
        {
          "output_type": "display_data",
          "data": {
            "text/plain": [
              "<Figure size 1080x576 with 1 Axes>"
            ],
            "image/png": "[encoded data removed]"
          },
          "metadata": {
            "needs_background": "light"
          }
        }
      ]
    }
  ]
}