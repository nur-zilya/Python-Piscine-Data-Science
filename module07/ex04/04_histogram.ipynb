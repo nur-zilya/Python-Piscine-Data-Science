{
  "nbformat": 4,
  "nbformat_minor": 0,
  "metadata": {
    "colab": {
      "provenance": []
    },
    "kernelspec": {
      "name": "python3",
      "display_name": "Python 3"
    },
    "language_info": {
      "name": "python"
    }
  },
  "cells": [
    {
      "cell_type": "code",
      "execution_count": 1,
      "metadata": {
        "colab": {
          "base_uri": "https://localhost:8080/"
        },
        "id": "4zSy89eOy-3t",
        "outputId": "0c98f892-917d-4546-fc2e-ff470005009c"
      },
      "outputs": [
        {
          "output_type": "stream",
          "name": "stdout",
          "text": [
            "Mounted at /content/drive\n"
          ]
        }
      ],
      "source": [
        "from google.colab import drive\n",
        "drive.mount('/content/drive')\n"
      ]
    },
    {
      "cell_type": "code",
      "source": [
        "import pandas as pd\n",
        "import sqlite3\n",
        "import matplotlib.pyplot as plt"
      ],
      "metadata": {
        "id": "Q4Ff3GBgz8s_"
      },
      "execution_count": 5,
      "outputs": []
    },
    {
      "cell_type": "code",
      "source": [
        "data = sqlite3.connect('/content/drive/My Drive/data/checking-logs.sqlite.sqlite')"
      ],
      "metadata": {
        "id": "LS-r_5OfzFfB"
      },
      "execution_count": 6,
      "outputs": []
    },
    {
      "cell_type": "code",
      "source": [
        "commits = pd.io.sql.read_sql(\n",
        "    \"select timestamp from checker where uid like 'user_%'\",\n",
        "    data, parse_dates=['timestamp']\n",
        "    )"
      ],
      "metadata": {
        "id": "rmLy5dXy0DL_"
      },
      "execution_count": 7,
      "outputs": []
    },
    {
      "cell_type": "code",
      "source": [
        "data.close()"
      ],
      "metadata": {
        "id": "thDgZj6z0VDS"
      },
      "execution_count": 8,
      "outputs": []
    },
    {
      "cell_type": "code",
      "source": [
        "commits['date'] = commits['timestamp'].dt.floor('d')\n",
        "commits['hour'] = commits['timestamp'].dt.hour\n",
        "commits = commits.drop('timestamp', axis=1)"
      ],
      "metadata": {
        "id": "u5_Mw_BL0WzD"
      },
      "execution_count": 9,
      "outputs": []
    },
    {
      "cell_type": "code",
      "source": [
        "working_day = commits.loc[commits['date'].dt.dayofweek < 5]['hour']\n",
        "weekend = commits.loc[commits['date'].dt.dayofweek >= 5]['hour']\n",
        "working_day = working_day.reset_index(drop=True)\n",
        "weekend = weekend.reset_index(drop=True)"
      ],
      "metadata": {
        "id": "IG3Olsgy0fz0"
      },
      "execution_count": 10,
      "outputs": []
    },
    {
      "cell_type": "code",
      "source": [
        "fig, graph = plt.subplots(figsize=(15, 8))\n",
        "graph.hist(working_day, bins=24, label='working days', color='mediumslateblue')\n",
        "graph.hist(weekend, bins=24, label='weekend', color='green', alpha=0.7)\n",
        "graph.set_xlim(0, 23)\n",
        "graph.legend(loc='upper left', fontsize='xx-large')\n",
        "plt.show()"
      ],
      "metadata": {
        "colab": {
          "base_uri": "https://localhost:8080/",
          "height": 483
        },
        "id": "BT3fIoI60q0N",
        "outputId": "91c56e92-0978-4443-ff89-865c68cb0732"
      },
      "execution_count": 11,
      "outputs": [
        {
          "output_type": "display_data",
          "data": {
            "text/plain": [
              "<Figure size 1080x576 with 1 Axes>"
            ],
            "image/png": "[encoded data removed]"
          },
          "metadata": {
            "needs_background": "light"
          }
        }
      ]
    },
    {
      "cell_type": "markdown",
      "source": [
        "Are there hours when the total number of commits was higher on weekends than\n",
        "on working days?\n",
        "11, 13, 22, 23, 00"
      ],
      "metadata": {
        "id": "fu4tbSUs1y-N"
      }
    }
  ]
}